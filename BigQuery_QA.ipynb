{
 "cells": [
  {
   "cell_type": "code",
   "execution_count": null,
   "metadata": {},
   "outputs": [],
   "source": [
    "# pip install langchain chromadb tiktoken tabulate sqlalchemy sqlalchemy-bigquery google-cloud-bigquery"
   ]
  },
  {
   "cell_type": "markdown",
   "metadata": {},
   "source": [
    "# BigQuery QA"
   ]
  },
  {
   "cell_type": "code",
   "execution_count": 74,
   "metadata": {},
   "outputs": [
    {
     "name": "stdout",
     "output_type": "stream",
     "text": [
      "Requirement already satisfied: langchain in /Users/sam/opt/anaconda3/envs/table_qa_env/lib/python3.11/site-packages (0.0.274)\n",
      "Requirement already satisfied: chromadb in /Users/sam/opt/anaconda3/envs/table_qa_env/lib/python3.11/site-packages (0.4.7)\n",
      "Requirement already satisfied: sqlalchemy in /Users/sam/opt/anaconda3/envs/table_qa_env/lib/python3.11/site-packages (1.4.50)\n",
      "Requirement already satisfied: sqlalchemy-bigquery in /Users/sam/opt/anaconda3/envs/table_qa_env/lib/python3.11/site-packages (1.8.0)\n",
      "Requirement already satisfied: google-cloud-bigquery in /Users/sam/opt/anaconda3/envs/table_qa_env/lib/python3.11/site-packages (3.11.4)\n",
      "Requirement already satisfied: PyYAML>=5.3 in /Users/sam/opt/anaconda3/envs/table_qa_env/lib/python3.11/site-packages (from langchain) (6.0.1)\n",
      "Requirement already satisfied: aiohttp<4.0.0,>=3.8.3 in /Users/sam/opt/anaconda3/envs/table_qa_env/lib/python3.11/site-packages (from langchain) (3.8.5)\n",
      "Requirement already satisfied: dataclasses-json<0.6.0,>=0.5.7 in /Users/sam/opt/anaconda3/envs/table_qa_env/lib/python3.11/site-packages (from langchain) (0.5.7)\n",
      "Requirement already satisfied: langsmith<0.1.0,>=0.0.21 in /Users/sam/opt/anaconda3/envs/table_qa_env/lib/python3.11/site-packages (from langchain) (0.0.25)\n",
      "Requirement already satisfied: numexpr<3.0.0,>=2.8.4 in /Users/sam/opt/anaconda3/envs/table_qa_env/lib/python3.11/site-packages (from langchain) (2.8.4)\n",
      "Requirement already satisfied: numpy<2,>=1 in /Users/sam/opt/anaconda3/envs/table_qa_env/lib/python3.11/site-packages (from langchain) (1.25.2)\n",
      "Requirement already satisfied: pydantic<3,>=1 in /Users/sam/opt/anaconda3/envs/table_qa_env/lib/python3.11/site-packages (from langchain) (1.10.12)\n",
      "Requirement already satisfied: requests<3,>=2 in /Users/sam/opt/anaconda3/envs/table_qa_env/lib/python3.11/site-packages (from langchain) (2.31.0)\n",
      "Requirement already satisfied: tenacity<9.0.0,>=8.1.0 in /Users/sam/opt/anaconda3/envs/table_qa_env/lib/python3.11/site-packages (from langchain) (8.2.3)\n",
      "Requirement already satisfied: chroma-hnswlib==0.7.2 in /Users/sam/opt/anaconda3/envs/table_qa_env/lib/python3.11/site-packages (from chromadb) (0.7.2)\n",
      "Requirement already satisfied: fastapi<0.100.0,>=0.95.2 in /Users/sam/opt/anaconda3/envs/table_qa_env/lib/python3.11/site-packages (from chromadb) (0.99.1)\n",
      "Requirement already satisfied: uvicorn[standard]>=0.18.3 in /Users/sam/opt/anaconda3/envs/table_qa_env/lib/python3.11/site-packages (from chromadb) (0.23.2)\n",
      "Requirement already satisfied: posthog>=2.4.0 in /Users/sam/opt/anaconda3/envs/table_qa_env/lib/python3.11/site-packages (from chromadb) (3.0.2)\n",
      "Requirement already satisfied: typing-extensions>=4.5.0 in /Users/sam/opt/anaconda3/envs/table_qa_env/lib/python3.11/site-packages (from chromadb) (4.7.1)\n",
      "Requirement already satisfied: pulsar-client>=3.1.0 in /Users/sam/opt/anaconda3/envs/table_qa_env/lib/python3.11/site-packages (from chromadb) (3.2.0)\n",
      "Requirement already satisfied: onnxruntime>=1.14.1 in /Users/sam/opt/anaconda3/envs/table_qa_env/lib/python3.11/site-packages (from chromadb) (1.15.1)\n",
      "Requirement already satisfied: tokenizers>=0.13.2 in /Users/sam/opt/anaconda3/envs/table_qa_env/lib/python3.11/site-packages (from chromadb) (0.13.3)\n",
      "Requirement already satisfied: pypika>=0.48.9 in /Users/sam/opt/anaconda3/envs/table_qa_env/lib/python3.11/site-packages (from chromadb) (0.48.9)\n",
      "Requirement already satisfied: tqdm>=4.65.0 in /Users/sam/opt/anaconda3/envs/table_qa_env/lib/python3.11/site-packages (from chromadb) (4.66.1)\n",
      "Requirement already satisfied: overrides>=7.3.1 in /Users/sam/opt/anaconda3/envs/table_qa_env/lib/python3.11/site-packages (from chromadb) (7.4.0)\n",
      "Requirement already satisfied: importlib-resources in /Users/sam/opt/anaconda3/envs/table_qa_env/lib/python3.11/site-packages (from chromadb) (6.0.1)\n",
      "Requirement already satisfied: bcrypt>=4.0.1 in /Users/sam/opt/anaconda3/envs/table_qa_env/lib/python3.11/site-packages (from chromadb) (4.0.1)\n",
      "Requirement already satisfied: greenlet!=0.4.17 in /Users/sam/opt/anaconda3/envs/table_qa_env/lib/python3.11/site-packages (from sqlalchemy) (2.0.2)\n",
      "Requirement already satisfied: google-api-core!=2.0.*,!=2.1.*,!=2.2.*,!=2.3.0,<3.0.0dev,>=1.31.5 in /Users/sam/opt/anaconda3/envs/table_qa_env/lib/python3.11/site-packages (from sqlalchemy-bigquery) (2.11.1)\n",
      "Requirement already satisfied: google-auth<3.0.0dev,>=1.25.0 in /Users/sam/opt/anaconda3/envs/table_qa_env/lib/python3.11/site-packages (from sqlalchemy-bigquery) (2.22.0)\n",
      "Requirement already satisfied: packaging in /Users/sam/opt/anaconda3/envs/table_qa_env/lib/python3.11/site-packages (from sqlalchemy-bigquery) (23.1)\n",
      "Requirement already satisfied: grpcio<2.0dev,>=1.47.0 in /Users/sam/opt/anaconda3/envs/table_qa_env/lib/python3.11/site-packages (from google-cloud-bigquery) (1.57.0)\n",
      "Requirement already satisfied: proto-plus<2.0.0dev,>=1.15.0 in /Users/sam/opt/anaconda3/envs/table_qa_env/lib/python3.11/site-packages (from google-cloud-bigquery) (1.22.3)\n",
      "Requirement already satisfied: google-cloud-core<3.0.0dev,>=1.6.0 in /Users/sam/opt/anaconda3/envs/table_qa_env/lib/python3.11/site-packages (from google-cloud-bigquery) (2.3.3)\n",
      "Requirement already satisfied: google-resumable-media<3.0dev,>=0.6.0 in /Users/sam/opt/anaconda3/envs/table_qa_env/lib/python3.11/site-packages (from google-cloud-bigquery) (2.5.0)\n",
      "Requirement already satisfied: protobuf!=3.20.0,!=3.20.1,!=4.21.0,!=4.21.1,!=4.21.2,!=4.21.3,!=4.21.4,!=4.21.5,<5.0.0dev,>=3.19.5 in /Users/sam/opt/anaconda3/envs/table_qa_env/lib/python3.11/site-packages (from google-cloud-bigquery) (4.23.4)\n",
      "Requirement already satisfied: python-dateutil<3.0dev,>=2.7.2 in /Users/sam/opt/anaconda3/envs/table_qa_env/lib/python3.11/site-packages (from google-cloud-bigquery) (2.8.2)\n",
      "Requirement already satisfied: attrs>=17.3.0 in /Users/sam/opt/anaconda3/envs/table_qa_env/lib/python3.11/site-packages (from aiohttp<4.0.0,>=3.8.3->langchain) (23.1.0)\n",
      "Requirement already satisfied: charset-normalizer<4.0,>=2.0 in /Users/sam/opt/anaconda3/envs/table_qa_env/lib/python3.11/site-packages (from aiohttp<4.0.0,>=3.8.3->langchain) (3.2.0)\n",
      "Requirement already satisfied: multidict<7.0,>=4.5 in /Users/sam/opt/anaconda3/envs/table_qa_env/lib/python3.11/site-packages (from aiohttp<4.0.0,>=3.8.3->langchain) (6.0.4)\n",
      "Requirement already satisfied: async-timeout<5.0,>=4.0.0a3 in /Users/sam/opt/anaconda3/envs/table_qa_env/lib/python3.11/site-packages (from aiohttp<4.0.0,>=3.8.3->langchain) (4.0.3)\n",
      "Requirement already satisfied: yarl<2.0,>=1.0 in /Users/sam/opt/anaconda3/envs/table_qa_env/lib/python3.11/site-packages (from aiohttp<4.0.0,>=3.8.3->langchain) (1.9.2)\n",
      "Requirement already satisfied: frozenlist>=1.1.1 in /Users/sam/opt/anaconda3/envs/table_qa_env/lib/python3.11/site-packages (from aiohttp<4.0.0,>=3.8.3->langchain) (1.4.0)\n",
      "Requirement already satisfied: aiosignal>=1.1.2 in /Users/sam/opt/anaconda3/envs/table_qa_env/lib/python3.11/site-packages (from aiohttp<4.0.0,>=3.8.3->langchain) (1.3.1)\n",
      "Requirement already satisfied: marshmallow<4.0.0,>=3.3.0 in /Users/sam/opt/anaconda3/envs/table_qa_env/lib/python3.11/site-packages (from dataclasses-json<0.6.0,>=0.5.7->langchain) (3.20.1)\n",
      "Requirement already satisfied: marshmallow-enum<2.0.0,>=1.5.1 in /Users/sam/opt/anaconda3/envs/table_qa_env/lib/python3.11/site-packages (from dataclasses-json<0.6.0,>=0.5.7->langchain) (1.5.1)\n",
      "Requirement already satisfied: typing-inspect>=0.4.0 in /Users/sam/opt/anaconda3/envs/table_qa_env/lib/python3.11/site-packages (from dataclasses-json<0.6.0,>=0.5.7->langchain) (0.9.0)\n",
      "Requirement already satisfied: starlette<0.28.0,>=0.27.0 in /Users/sam/opt/anaconda3/envs/table_qa_env/lib/python3.11/site-packages (from fastapi<0.100.0,>=0.95.2->chromadb) (0.27.0)\n",
      "Requirement already satisfied: googleapis-common-protos<2.0.dev0,>=1.56.2 in /Users/sam/opt/anaconda3/envs/table_qa_env/lib/python3.11/site-packages (from google-api-core!=2.0.*,!=2.1.*,!=2.2.*,!=2.3.0,<3.0.0dev,>=1.31.5->sqlalchemy-bigquery) (1.60.0)\n",
      "Requirement already satisfied: grpcio-status<2.0.dev0,>=1.33.2 in /Users/sam/opt/anaconda3/envs/table_qa_env/lib/python3.11/site-packages (from google-api-core!=2.0.*,!=2.1.*,!=2.2.*,!=2.3.0,<3.0.0dev,>=1.31.5->sqlalchemy-bigquery) (1.57.0)\n",
      "Requirement already satisfied: cachetools<6.0,>=2.0.0 in /Users/sam/opt/anaconda3/envs/table_qa_env/lib/python3.11/site-packages (from google-auth<3.0.0dev,>=1.25.0->sqlalchemy-bigquery) (5.3.1)\n",
      "Requirement already satisfied: pyasn1-modules>=0.2.1 in /Users/sam/opt/anaconda3/envs/table_qa_env/lib/python3.11/site-packages (from google-auth<3.0.0dev,>=1.25.0->sqlalchemy-bigquery) (0.2.7)\n",
      "Requirement already satisfied: rsa<5,>=3.1.4 in /Users/sam/opt/anaconda3/envs/table_qa_env/lib/python3.11/site-packages (from google-auth<3.0.0dev,>=1.25.0->sqlalchemy-bigquery) (4.9)\n",
      "Requirement already satisfied: six>=1.9.0 in /Users/sam/opt/anaconda3/envs/table_qa_env/lib/python3.11/site-packages (from google-auth<3.0.0dev,>=1.25.0->sqlalchemy-bigquery) (1.16.0)\n",
      "Requirement already satisfied: urllib3<2.0 in /Users/sam/opt/anaconda3/envs/table_qa_env/lib/python3.11/site-packages (from google-auth<3.0.0dev,>=1.25.0->sqlalchemy-bigquery) (1.26.15)\n",
      "Requirement already satisfied: google-crc32c<2.0dev,>=1.0 in /Users/sam/opt/anaconda3/envs/table_qa_env/lib/python3.11/site-packages (from google-resumable-media<3.0dev,>=0.6.0->google-cloud-bigquery) (1.5.0)\n",
      "Requirement already satisfied: coloredlogs in /Users/sam/opt/anaconda3/envs/table_qa_env/lib/python3.11/site-packages (from onnxruntime>=1.14.1->chromadb) (15.0.1)\n",
      "Requirement already satisfied: flatbuffers in /Users/sam/opt/anaconda3/envs/table_qa_env/lib/python3.11/site-packages (from onnxruntime>=1.14.1->chromadb) (23.5.26)\n",
      "Requirement already satisfied: sympy in /Users/sam/opt/anaconda3/envs/table_qa_env/lib/python3.11/site-packages (from onnxruntime>=1.14.1->chromadb) (1.12)\n",
      "Requirement already satisfied: monotonic>=1.5 in /Users/sam/opt/anaconda3/envs/table_qa_env/lib/python3.11/site-packages (from posthog>=2.4.0->chromadb) (1.6)\n",
      "Requirement already satisfied: backoff>=1.10.0 in /Users/sam/opt/anaconda3/envs/table_qa_env/lib/python3.11/site-packages (from posthog>=2.4.0->chromadb) (2.2.1)\n",
      "Requirement already satisfied: certifi in /Users/sam/opt/anaconda3/envs/table_qa_env/lib/python3.11/site-packages (from pulsar-client>=3.1.0->chromadb) (2023.7.22)\n",
      "Requirement already satisfied: idna<4,>=2.5 in /Users/sam/opt/anaconda3/envs/table_qa_env/lib/python3.11/site-packages (from requests<3,>=2->langchain) (3.4)\n",
      "Requirement already satisfied: click>=7.0 in /Users/sam/opt/anaconda3/envs/table_qa_env/lib/python3.11/site-packages (from uvicorn[standard]>=0.18.3->chromadb) (8.1.7)\n",
      "Requirement already satisfied: h11>=0.8 in /Users/sam/opt/anaconda3/envs/table_qa_env/lib/python3.11/site-packages (from uvicorn[standard]>=0.18.3->chromadb) (0.14.0)\n",
      "Requirement already satisfied: httptools>=0.5.0 in /Users/sam/opt/anaconda3/envs/table_qa_env/lib/python3.11/site-packages (from uvicorn[standard]>=0.18.3->chromadb) (0.6.0)\n",
      "Requirement already satisfied: python-dotenv>=0.13 in /Users/sam/opt/anaconda3/envs/table_qa_env/lib/python3.11/site-packages (from uvicorn[standard]>=0.18.3->chromadb) (1.0.0)\n",
      "Requirement already satisfied: uvloop!=0.15.0,!=0.15.1,>=0.14.0 in /Users/sam/opt/anaconda3/envs/table_qa_env/lib/python3.11/site-packages (from uvicorn[standard]>=0.18.3->chromadb) (0.17.0)\n",
      "Requirement already satisfied: watchfiles>=0.13 in /Users/sam/opt/anaconda3/envs/table_qa_env/lib/python3.11/site-packages (from uvicorn[standard]>=0.18.3->chromadb) (0.20.0)\n",
      "Requirement already satisfied: websockets>=10.4 in /Users/sam/opt/anaconda3/envs/table_qa_env/lib/python3.11/site-packages (from uvicorn[standard]>=0.18.3->chromadb) (11.0.3)\n",
      "Requirement already satisfied: pyasn1<0.5.0,>=0.4.6 in /Users/sam/opt/anaconda3/envs/table_qa_env/lib/python3.11/site-packages (from pyasn1-modules>=0.2.1->google-auth<3.0.0dev,>=1.25.0->sqlalchemy-bigquery) (0.4.8)\n",
      "Requirement already satisfied: anyio<5,>=3.4.0 in /Users/sam/opt/anaconda3/envs/table_qa_env/lib/python3.11/site-packages (from starlette<0.28.0,>=0.27.0->fastapi<0.100.0,>=0.95.2->chromadb) (3.7.1)\n",
      "Requirement already satisfied: mypy-extensions>=0.3.0 in /Users/sam/opt/anaconda3/envs/table_qa_env/lib/python3.11/site-packages (from typing-inspect>=0.4.0->dataclasses-json<0.6.0,>=0.5.7->langchain) (1.0.0)\n",
      "Requirement already satisfied: humanfriendly>=9.1 in /Users/sam/opt/anaconda3/envs/table_qa_env/lib/python3.11/site-packages (from coloredlogs->onnxruntime>=1.14.1->chromadb) (10.0)\n",
      "Requirement already satisfied: mpmath>=0.19 in /Users/sam/opt/anaconda3/envs/table_qa_env/lib/python3.11/site-packages (from sympy->onnxruntime>=1.14.1->chromadb) (1.3.0)\n",
      "Requirement already satisfied: sniffio>=1.1 in /Users/sam/opt/anaconda3/envs/table_qa_env/lib/python3.11/site-packages (from anyio<5,>=3.4.0->starlette<0.28.0,>=0.27.0->fastapi<0.100.0,>=0.95.2->chromadb) (1.3.0)\n"
     ]
    }
   ],
   "source": [
    "! pip install langchain chromadb sqlalchemy sqlalchemy-bigquery google-cloud-bigquery"
   ]
  },
  {
   "cell_type": "code",
   "execution_count": 6,
   "metadata": {},
   "outputs": [],
   "source": [
    "import pandas as pd\n",
    "\n",
    "from google.cloud import bigquery\n",
    "from sqlalchemy import *\n",
    "from sqlalchemy.engine import create_engine\n",
    "from sqlalchemy.schema import *\n",
    "\n",
    "from langchain.agents import create_sql_agent\n",
    "from langchain.agents.agent_toolkits import SQLDatabaseToolkit\n",
    "from langchain.sql_database import SQLDatabase\n",
    "\n",
    "from langchain.agents import AgentExecutor\n",
    "from langchain.llms import VertexAI\n",
    "\n",
    "from google.cloud import aiplatform"
   ]
  },
  {
   "cell_type": "markdown",
   "metadata": {},
   "source": [
    "### Set Variables"
   ]
  },
  {
   "cell_type": "code",
   "execution_count": null,
   "metadata": {},
   "outputs": [],
   "source": [
    "service_account_file = \"/path/to/your/file/secret.json\" \n",
    "\n",
    "PROJECT_ID = \"your-project-id\"\n",
    "DATASET = \"IBM_ATTRITION\"\n",
    "TABLE = \"ATTRITION_TABLE\"\n",
    "sqlalchemy_url = f'bigquery://{PROJECT_ID}/{DATASET}?credentials_path={service_account_file}'"
   ]
  },
  {
   "cell_type": "markdown",
   "metadata": {},
   "source": [
    "### Load Data"
   ]
  },
  {
   "cell_type": "code",
   "execution_count": 22,
   "metadata": {},
   "outputs": [
    {
     "data": {
      "text/html": [
       "<div>\n",
       "<style scoped>\n",
       "    .dataframe tbody tr th:only-of-type {\n",
       "        vertical-align: middle;\n",
       "    }\n",
       "\n",
       "    .dataframe tbody tr th {\n",
       "        vertical-align: top;\n",
       "    }\n",
       "\n",
       "    .dataframe thead th {\n",
       "        text-align: right;\n",
       "    }\n",
       "</style>\n",
       "<table border=\"1\" class=\"dataframe\">\n",
       "  <thead>\n",
       "    <tr style=\"text-align: right;\">\n",
       "      <th></th>\n",
       "      <th>Age</th>\n",
       "      <th>Attrition</th>\n",
       "      <th>Department</th>\n",
       "      <th>DistanceFromHome</th>\n",
       "      <th>Education</th>\n",
       "      <th>EducationField</th>\n",
       "      <th>EnvironmentSatisfaction</th>\n",
       "      <th>JobSatisfaction</th>\n",
       "      <th>MaritalStatus</th>\n",
       "      <th>MonthlyIncome</th>\n",
       "      <th>NumCompaniesWorked</th>\n",
       "      <th>WorkLifeBalance</th>\n",
       "      <th>YearsAtCompany</th>\n",
       "    </tr>\n",
       "  </thead>\n",
       "  <tbody>\n",
       "    <tr>\n",
       "      <th>0</th>\n",
       "      <td>41</td>\n",
       "      <td>Yes</td>\n",
       "      <td>Sales</td>\n",
       "      <td>1</td>\n",
       "      <td>2</td>\n",
       "      <td>Life Sciences</td>\n",
       "      <td>2</td>\n",
       "      <td>4</td>\n",
       "      <td>Single</td>\n",
       "      <td>5993</td>\n",
       "      <td>8</td>\n",
       "      <td>1</td>\n",
       "      <td>6</td>\n",
       "    </tr>\n",
       "    <tr>\n",
       "      <th>1</th>\n",
       "      <td>49</td>\n",
       "      <td>No</td>\n",
       "      <td>Research &amp; Development</td>\n",
       "      <td>8</td>\n",
       "      <td>1</td>\n",
       "      <td>Life Sciences</td>\n",
       "      <td>3</td>\n",
       "      <td>2</td>\n",
       "      <td>Married</td>\n",
       "      <td>5130</td>\n",
       "      <td>1</td>\n",
       "      <td>3</td>\n",
       "      <td>10</td>\n",
       "    </tr>\n",
       "    <tr>\n",
       "      <th>2</th>\n",
       "      <td>37</td>\n",
       "      <td>Yes</td>\n",
       "      <td>Research &amp; Development</td>\n",
       "      <td>2</td>\n",
       "      <td>2</td>\n",
       "      <td>Other</td>\n",
       "      <td>4</td>\n",
       "      <td>3</td>\n",
       "      <td>Single</td>\n",
       "      <td>2090</td>\n",
       "      <td>6</td>\n",
       "      <td>3</td>\n",
       "      <td>0</td>\n",
       "    </tr>\n",
       "    <tr>\n",
       "      <th>3</th>\n",
       "      <td>33</td>\n",
       "      <td>No</td>\n",
       "      <td>Research &amp; Development</td>\n",
       "      <td>3</td>\n",
       "      <td>4</td>\n",
       "      <td>Life Sciences</td>\n",
       "      <td>4</td>\n",
       "      <td>3</td>\n",
       "      <td>Married</td>\n",
       "      <td>2909</td>\n",
       "      <td>1</td>\n",
       "      <td>3</td>\n",
       "      <td>8</td>\n",
       "    </tr>\n",
       "    <tr>\n",
       "      <th>4</th>\n",
       "      <td>27</td>\n",
       "      <td>No</td>\n",
       "      <td>Research &amp; Development</td>\n",
       "      <td>2</td>\n",
       "      <td>1</td>\n",
       "      <td>Medical</td>\n",
       "      <td>1</td>\n",
       "      <td>2</td>\n",
       "      <td>Married</td>\n",
       "      <td>3468</td>\n",
       "      <td>9</td>\n",
       "      <td>3</td>\n",
       "      <td>2</td>\n",
       "    </tr>\n",
       "    <tr>\n",
       "      <th>...</th>\n",
       "      <td>...</td>\n",
       "      <td>...</td>\n",
       "      <td>...</td>\n",
       "      <td>...</td>\n",
       "      <td>...</td>\n",
       "      <td>...</td>\n",
       "      <td>...</td>\n",
       "      <td>...</td>\n",
       "      <td>...</td>\n",
       "      <td>...</td>\n",
       "      <td>...</td>\n",
       "      <td>...</td>\n",
       "      <td>...</td>\n",
       "    </tr>\n",
       "    <tr>\n",
       "      <th>1465</th>\n",
       "      <td>36</td>\n",
       "      <td>No</td>\n",
       "      <td>Research &amp; Development</td>\n",
       "      <td>23</td>\n",
       "      <td>2</td>\n",
       "      <td>Medical</td>\n",
       "      <td>3</td>\n",
       "      <td>4</td>\n",
       "      <td>Married</td>\n",
       "      <td>2571</td>\n",
       "      <td>4</td>\n",
       "      <td>3</td>\n",
       "      <td>5</td>\n",
       "    </tr>\n",
       "    <tr>\n",
       "      <th>1466</th>\n",
       "      <td>39</td>\n",
       "      <td>No</td>\n",
       "      <td>Research &amp; Development</td>\n",
       "      <td>6</td>\n",
       "      <td>1</td>\n",
       "      <td>Medical</td>\n",
       "      <td>4</td>\n",
       "      <td>1</td>\n",
       "      <td>Married</td>\n",
       "      <td>9991</td>\n",
       "      <td>4</td>\n",
       "      <td>3</td>\n",
       "      <td>7</td>\n",
       "    </tr>\n",
       "    <tr>\n",
       "      <th>1467</th>\n",
       "      <td>27</td>\n",
       "      <td>No</td>\n",
       "      <td>Research &amp; Development</td>\n",
       "      <td>4</td>\n",
       "      <td>3</td>\n",
       "      <td>Life Sciences</td>\n",
       "      <td>2</td>\n",
       "      <td>2</td>\n",
       "      <td>Married</td>\n",
       "      <td>6142</td>\n",
       "      <td>1</td>\n",
       "      <td>3</td>\n",
       "      <td>6</td>\n",
       "    </tr>\n",
       "    <tr>\n",
       "      <th>1468</th>\n",
       "      <td>49</td>\n",
       "      <td>No</td>\n",
       "      <td>Sales</td>\n",
       "      <td>2</td>\n",
       "      <td>3</td>\n",
       "      <td>Medical</td>\n",
       "      <td>4</td>\n",
       "      <td>2</td>\n",
       "      <td>Married</td>\n",
       "      <td>5390</td>\n",
       "      <td>2</td>\n",
       "      <td>2</td>\n",
       "      <td>9</td>\n",
       "    </tr>\n",
       "    <tr>\n",
       "      <th>1469</th>\n",
       "      <td>34</td>\n",
       "      <td>No</td>\n",
       "      <td>Research &amp; Development</td>\n",
       "      <td>8</td>\n",
       "      <td>3</td>\n",
       "      <td>Medical</td>\n",
       "      <td>2</td>\n",
       "      <td>3</td>\n",
       "      <td>Married</td>\n",
       "      <td>4404</td>\n",
       "      <td>2</td>\n",
       "      <td>4</td>\n",
       "      <td>4</td>\n",
       "    </tr>\n",
       "  </tbody>\n",
       "</table>\n",
       "<p>1470 rows × 13 columns</p>\n",
       "</div>"
      ],
      "text/plain": [
       "      Age Attrition              Department  DistanceFromHome  Education  \\\n",
       "0      41       Yes                   Sales                 1          2   \n",
       "1      49        No  Research & Development                 8          1   \n",
       "2      37       Yes  Research & Development                 2          2   \n",
       "3      33        No  Research & Development                 3          4   \n",
       "4      27        No  Research & Development                 2          1   \n",
       "...   ...       ...                     ...               ...        ...   \n",
       "1465   36        No  Research & Development                23          2   \n",
       "1466   39        No  Research & Development                 6          1   \n",
       "1467   27        No  Research & Development                 4          3   \n",
       "1468   49        No                   Sales                 2          3   \n",
       "1469   34        No  Research & Development                 8          3   \n",
       "\n",
       "     EducationField  EnvironmentSatisfaction  JobSatisfaction MaritalStatus  \\\n",
       "0     Life Sciences                        2                4        Single   \n",
       "1     Life Sciences                        3                2       Married   \n",
       "2             Other                        4                3        Single   \n",
       "3     Life Sciences                        4                3       Married   \n",
       "4           Medical                        1                2       Married   \n",
       "...             ...                      ...              ...           ...   \n",
       "1465        Medical                        3                4       Married   \n",
       "1466        Medical                        4                1       Married   \n",
       "1467  Life Sciences                        2                2       Married   \n",
       "1468        Medical                        4                2       Married   \n",
       "1469        Medical                        2                3       Married   \n",
       "\n",
       "      MonthlyIncome  NumCompaniesWorked  WorkLifeBalance  YearsAtCompany  \n",
       "0              5993                   8                1               6  \n",
       "1              5130                   1                3              10  \n",
       "2              2090                   6                3               0  \n",
       "3              2909                   1                3               8  \n",
       "4              3468                   9                3               2  \n",
       "...             ...                 ...              ...             ...  \n",
       "1465           2571                   4                3               5  \n",
       "1466           9991                   4                3               7  \n",
       "1467           6142                   1                3               6  \n",
       "1468           5390                   2                2               9  \n",
       "1469           4404                   2                4               4  \n",
       "\n",
       "[1470 rows x 13 columns]"
      ]
     },
     "execution_count": 22,
     "metadata": {},
     "output_type": "execute_result"
    }
   ],
   "source": [
    "df = pd.read_csv(\"IBM.csv\")\n",
    "df"
   ]
  },
  {
   "cell_type": "markdown",
   "metadata": {},
   "source": [
    "### LLM: Google PaLm & VertexAI"
   ]
  },
  {
   "cell_type": "code",
   "execution_count": 75,
   "metadata": {},
   "outputs": [],
   "source": [
    "# initialize LLM\n",
    "\n",
    "aiplatform.init(project=PROJECT_ID)\n",
    "\n",
    "llm = VertexAI(model_name='text-bison@001')"
   ]
  },
  {
   "cell_type": "code",
   "execution_count": 76,
   "metadata": {},
   "outputs": [
    {
     "data": {
      "text/plain": [
       "'Saturday'"
      ]
     },
     "execution_count": 76,
     "metadata": {},
     "output_type": "execute_result"
    }
   ],
   "source": [
    "# test LLM\n",
    "\n",
    "question = \"What day comes after Friday?\"\n",
    "\n",
    "llm(question)"
   ]
  },
  {
   "cell_type": "code",
   "execution_count": 10,
   "metadata": {},
   "outputs": [
    {
     "name": "stderr",
     "output_type": "stream",
     "text": [
      "/Users/sam/opt/anaconda3/envs/table_qa_env/lib/python3.11/site-packages/google/cloud/bigquery/client.py:570: UserWarning: Cannot create BigQuery Storage client, the dependency google-cloud-bigquery-storage is not installed.\n",
      "  warnings.warn(\n"
     ]
    }
   ],
   "source": [
    "# Connect Sqlalchemy, LangChain, and VertexAI\n",
    "\n",
    "db = SQLDatabase.from_uri(sqlalchemy_url)\n",
    "\n",
    "llm = VertexAI(model_name='text-bison@001')\n",
    "\n",
    "toolkit = SQLDatabaseToolkit(db=db, llm=llm)\n",
    "\n",
    "agent_executor = create_sql_agent(llm=llm,\n",
    "                                    toolkit=toolkit,\n",
    "                                    verbose=True,\n",
    "                                    top_k=1000,\n",
    "                                    )"
   ]
  },
  {
   "cell_type": "markdown",
   "metadata": {},
   "source": [
    "### How many different Departments are there?"
   ]
  },
  {
   "cell_type": "code",
   "execution_count": 13,
   "metadata": {},
   "outputs": [
    {
     "name": "stdout",
     "output_type": "stream",
     "text": [
      "\n",
      "\n",
      "\u001b[1m> Entering new AgentExecutor chain...\u001b[0m\n",
      "\u001b[32;1m\u001b[1;3mAction: sql_db_list_tables\n",
      "Action Input: \u001b[0m\n",
      "Observation: \u001b[38;5;200m\u001b[1;3mATTRITION_TABLE\u001b[0m\n",
      "Thought:\u001b[32;1m\u001b[1;3mI should query the schema of the ATTRITION_TABLE table to see what columns it has.\n",
      "Action: sql_db_schema\n",
      "Action Input: ATTRITION_TABLE\u001b[0m\n",
      "Observation: \u001b[33;1m\u001b[1;3m\n",
      "CREATE TABLE `ATTRITION_TABLE` (\n",
      "\t`Age` INT64, \n",
      "\t`Attrition` BOOL, \n",
      "\t`Department` STRING, \n",
      "\t`DistanceFromHome` INT64, \n",
      "\t`Education` INT64, \n",
      "\t`EducationField` STRING, \n",
      "\t`EnvironmentSatisfaction` INT64, \n",
      "\t`JobSatisfaction` INT64, \n",
      "\t`MaritalStatus` STRING, \n",
      "\t`MonthlyIncome` INT64, \n",
      "\t`NumCompaniesWorked` INT64, \n",
      "\t`WorkLifeBalance` INT64, \n",
      "\t`YearsAtCompany` INT64\n",
      ")\n",
      "\n",
      "/*\n",
      "3 rows from ATTRITION_TABLE table:\n",
      "Age\tAttrition\tDepartment\tDistanceFromHome\tEducation\tEducationField\tEnvironmentSatisfaction\tJobSatisfaction\tMaritalStatus\tMonthlyIncome\tNumCompaniesWorked\tWorkLifeBalance\tYearsAtCompany\n",
      "19\tTrue\tSales\t21\t3\tOther\t4\t2\tSingle\t2121\t1\t4\t1\n",
      "21\tTrue\tResearch & Development\t18\t1\tOther\t4\t4\tSingle\t2693\t1\t2\t1\n",
      "22\tFalse\tResearch & Development\t26\t2\tOther\t2\t3\tMarried\t2814\t1\t2\t4\n",
      "*/\u001b[0m\n",
      "Thought:\u001b[32;1m\u001b[1;3mI should query the ATTRITION_TABLE table to get the unique values of the Department column.\n",
      "Action: sql_db_query\n",
      "Action Input: SELECT DISTINCT Department FROM ATTRITION_TABLE\u001b[0m\n",
      "Observation: \u001b[36;1m\u001b[1;3m[('Sales',), ('Research & Development',), ('Human Resources',)]\u001b[0m\n",
      "Thought:\u001b[32;1m\u001b[1;3mI now know the final answer\n",
      "Final Answer: There are 3 different Departments.\u001b[0m\n",
      "\n",
      "\u001b[1m> Finished chain.\u001b[0m\n"
     ]
    },
    {
     "data": {
      "text/plain": [
       "'There are 3 different Departments.'"
      ]
     },
     "execution_count": 13,
     "metadata": {},
     "output_type": "execute_result"
    }
   ],
   "source": [
    "agent_executor.run(\"How many different Departments are there?\")"
   ]
  },
  {
   "cell_type": "code",
   "execution_count": 24,
   "metadata": {},
   "outputs": [
    {
     "data": {
      "text/plain": [
       "3"
      ]
     },
     "execution_count": 24,
     "metadata": {},
     "output_type": "execute_result"
    }
   ],
   "source": [
    "df['Department'].nunique()"
   ]
  },
  {
   "cell_type": "markdown",
   "metadata": {},
   "source": [
    "### What's the average monthly income for the Sales department?"
   ]
  },
  {
   "cell_type": "code",
   "execution_count": 20,
   "metadata": {},
   "outputs": [
    {
     "name": "stdout",
     "output_type": "stream",
     "text": [
      "\n",
      "\n",
      "\u001b[1m> Entering new AgentExecutor chain...\u001b[0m\n",
      "\u001b[32;1m\u001b[1;3mAction: sql_db_list_tables\n",
      "Action Input: \u001b[0m\n",
      "Observation: \u001b[38;5;200m\u001b[1;3mATTRITION_TABLE\u001b[0m\n",
      "Thought:\u001b[32;1m\u001b[1;3mI don't know what the ATTRITION_TABLE is. I should ask for a schema of it.\n",
      "Action: sql_db_schema\n",
      "Action Input: ATTRITION_TABLE\u001b[0m\n",
      "Observation: \u001b[33;1m\u001b[1;3m\n",
      "CREATE TABLE `ATTRITION_TABLE` (\n",
      "\t`Age` INT64, \n",
      "\t`Attrition` BOOL, \n",
      "\t`Department` STRING, \n",
      "\t`DistanceFromHome` INT64, \n",
      "\t`Education` INT64, \n",
      "\t`EducationField` STRING, \n",
      "\t`EnvironmentSatisfaction` INT64, \n",
      "\t`JobSatisfaction` INT64, \n",
      "\t`MaritalStatus` STRING, \n",
      "\t`MonthlyIncome` INT64, \n",
      "\t`NumCompaniesWorked` INT64, \n",
      "\t`WorkLifeBalance` INT64, \n",
      "\t`YearsAtCompany` INT64\n",
      ")\n",
      "\n",
      "/*\n",
      "3 rows from ATTRITION_TABLE table:\n",
      "Age\tAttrition\tDepartment\tDistanceFromHome\tEducation\tEducationField\tEnvironmentSatisfaction\tJobSatisfaction\tMaritalStatus\tMonthlyIncome\tNumCompaniesWorked\tWorkLifeBalance\tYearsAtCompany\n",
      "19\tTrue\tSales\t21\t3\tOther\t4\t2\tSingle\t2121\t1\t4\t1\n",
      "21\tTrue\tResearch & Development\t18\t1\tOther\t4\t4\tSingle\t2693\t1\t2\t1\n",
      "22\tFalse\tResearch & Development\t26\t2\tOther\t2\t3\tMarried\t2814\t1\t2\t4\n",
      "*/\u001b[0m\n",
      "Thought:\u001b[32;1m\u001b[1;3mThe ATTRITION_TABLE has the information I need. I should query the average monthly income for the Sales department.\n",
      "Action: sql_db_query\n",
      "Action Input: SELECT AVG(MonthlyIncome) FROM ATTRITION_TABLE WHERE Department = 'Sales'\u001b[0m\n",
      "Observation: \u001b[36;1m\u001b[1;3m[(6959.17264573991,)]\u001b[0m\n",
      "Thought:\u001b[32;1m\u001b[1;3mI now know the final answer\n",
      "Final Answer: The average monthly income for the Sales department is 6959.17.\u001b[0m\n",
      "\n",
      "\u001b[1m> Finished chain.\u001b[0m\n"
     ]
    },
    {
     "data": {
      "text/plain": [
       "'The average monthly income for the Sales department is 6959.17.'"
      ]
     },
     "execution_count": 20,
     "metadata": {},
     "output_type": "execute_result"
    }
   ],
   "source": [
    "agent_executor.run(\"What's the average monthly income for the Sales department?\")"
   ]
  },
  {
   "cell_type": "code",
   "execution_count": 28,
   "metadata": {},
   "outputs": [
    {
     "data": {
      "text/html": [
       "<div>\n",
       "<style scoped>\n",
       "    .dataframe tbody tr th:only-of-type {\n",
       "        vertical-align: middle;\n",
       "    }\n",
       "\n",
       "    .dataframe tbody tr th {\n",
       "        vertical-align: top;\n",
       "    }\n",
       "\n",
       "    .dataframe thead th {\n",
       "        text-align: right;\n",
       "    }\n",
       "</style>\n",
       "<table border=\"1\" class=\"dataframe\">\n",
       "  <thead>\n",
       "    <tr style=\"text-align: right;\">\n",
       "      <th></th>\n",
       "      <th>Department</th>\n",
       "      <th>MonthlyIncome</th>\n",
       "    </tr>\n",
       "  </thead>\n",
       "  <tbody>\n",
       "    <tr>\n",
       "      <th>0</th>\n",
       "      <td>Human Resources</td>\n",
       "      <td>6654.51</td>\n",
       "    </tr>\n",
       "    <tr>\n",
       "      <th>1</th>\n",
       "      <td>Research &amp; Development</td>\n",
       "      <td>6281.25</td>\n",
       "    </tr>\n",
       "    <tr>\n",
       "      <th>2</th>\n",
       "      <td>Sales</td>\n",
       "      <td>6959.17</td>\n",
       "    </tr>\n",
       "  </tbody>\n",
       "</table>\n",
       "</div>"
      ],
      "text/plain": [
       "               Department  MonthlyIncome\n",
       "0         Human Resources        6654.51\n",
       "1  Research & Development        6281.25\n",
       "2                   Sales        6959.17"
      ]
     },
     "execution_count": 28,
     "metadata": {},
     "output_type": "execute_result"
    }
   ],
   "source": [
    "df[['Department', 'MonthlyIncome']].groupby('Department').mean().round(2).reset_index()"
   ]
  },
  {
   "cell_type": "markdown",
   "metadata": {},
   "source": [
    "### Which department has the highest number of attrition and how far on average is the distance from home for those who attited from this department?"
   ]
  },
  {
   "cell_type": "code",
   "execution_count": 44,
   "metadata": {},
   "outputs": [
    {
     "name": "stdout",
     "output_type": "stream",
     "text": [
      "\n",
      "\n",
      "\u001b[1m> Entering new AgentExecutor chain...\u001b[0m\n",
      "\u001b[32;1m\u001b[1;3mAction: sql_db_list_tables\n",
      "Action Input: \u001b[0m\n",
      "Observation: \u001b[38;5;200m\u001b[1;3mATTRITION_TABLE\u001b[0m\n",
      "Thought:\u001b[32;1m\u001b[1;3mI should query the schema of the ATTRITION_TABLE table to see what columns it has.\n",
      "Action: sql_db_schema\n",
      "Action Input: ATTRITION_TABLE\u001b[0m"
     ]
    },
    {
     "name": "stderr",
     "output_type": "stream",
     "text": [
      "Retrying langchain.llms.vertexai.completion_with_retry.<locals>._completion_with_retry in 4.0 seconds as it raised ResourceExhausted: 429 Quota exceeded for aiplatform.googleapis.com/online_prediction_requests_per_base_model with base model: text-bison. Please submit a quota increase request. https://cloud.google.com/vertex-ai/docs/quotas..\n"
     ]
    },
    {
     "name": "stdout",
     "output_type": "stream",
     "text": [
      "\n",
      "Observation: \u001b[33;1m\u001b[1;3m\n",
      "CREATE TABLE `ATTRITION_TABLE` (\n",
      "\t`Age` INT64, \n",
      "\t`Attrition` BOOL, \n",
      "\t`Department` STRING, \n",
      "\t`DistanceFromHome` INT64, \n",
      "\t`Education` INT64, \n",
      "\t`EducationField` STRING, \n",
      "\t`EnvironmentSatisfaction` INT64, \n",
      "\t`JobSatisfaction` INT64, \n",
      "\t`MaritalStatus` STRING, \n",
      "\t`MonthlyIncome` INT64, \n",
      "\t`NumCompaniesWorked` INT64, \n",
      "\t`WorkLifeBalance` INT64, \n",
      "\t`YearsAtCompany` INT64\n",
      ")\n",
      "\n",
      "/*\n",
      "3 rows from ATTRITION_TABLE table:\n",
      "Age\tAttrition\tDepartment\tDistanceFromHome\tEducation\tEducationField\tEnvironmentSatisfaction\tJobSatisfaction\tMaritalStatus\tMonthlyIncome\tNumCompaniesWorked\tWorkLifeBalance\tYearsAtCompany\n",
      "19\tTrue\tSales\t21\t3\tOther\t4\t2\tSingle\t2121\t1\t4\t1\n",
      "21\tTrue\tResearch & Development\t18\t1\tOther\t4\t4\tSingle\t2693\t1\t2\t1\n",
      "22\tFalse\tResearch & Development\t26\t2\tOther\t2\t3\tMarried\t2814\t1\t2\t4\n",
      "*/\u001b[0m\n",
      "Thought:"
     ]
    },
    {
     "name": "stderr",
     "output_type": "stream",
     "text": [
      "Retrying langchain.llms.vertexai.completion_with_retry.<locals>._completion_with_retry in 4.0 seconds as it raised ResourceExhausted: 429 Quota exceeded for aiplatform.googleapis.com/online_prediction_requests_per_base_model with base model: text-bison. Please submit a quota increase request. https://cloud.google.com/vertex-ai/docs/quotas..\n"
     ]
    },
    {
     "name": "stdout",
     "output_type": "stream",
     "text": [
      "\u001b[32;1m\u001b[1;3mI should query the ATTRITION_TABLE table to find the department with the highest number of attrition.\n",
      "Action: sql_db_query\n",
      "Action Input: SELECT Department, AVG(DistanceFromHome) FROM ATTRITION_TABLE WHERE Attrition = True GROUP BY Department ORDER BY COUNT(*) DESC LIMIT 1\u001b[0m\n",
      "Observation: \u001b[36;1m\u001b[1;3m[('Research & Development', 10.263157894736842)]\u001b[0m\n",
      "Thought:\u001b[32;1m\u001b[1;3mI now know the final answer\n",
      "Final Answer: The department with the highest number of attrition is Research & Development, and the average distance from home for those who attited from this department is 10.263157894736842.\u001b[0m\n",
      "\n",
      "\u001b[1m> Finished chain.\u001b[0m\n"
     ]
    },
    {
     "data": {
      "text/plain": [
       "'The department with the highest number of attrition is Research & Development, and the average distance from home for those who attited from this department is 10.263157894736842.'"
      ]
     },
     "execution_count": 44,
     "metadata": {},
     "output_type": "execute_result"
    }
   ],
   "source": [
    "agent_executor.run(\"Which department has the highest number of attrition and how far on average is the distance from home for those who attited from this department?\")"
   ]
  },
  {
   "cell_type": "code",
   "execution_count": 42,
   "metadata": {},
   "outputs": [
    {
     "data": {
      "text/html": [
       "<div>\n",
       "<style scoped>\n",
       "    .dataframe tbody tr th:only-of-type {\n",
       "        vertical-align: middle;\n",
       "    }\n",
       "\n",
       "    .dataframe tbody tr th {\n",
       "        vertical-align: top;\n",
       "    }\n",
       "\n",
       "    .dataframe thead th {\n",
       "        text-align: right;\n",
       "    }\n",
       "</style>\n",
       "<table border=\"1\" class=\"dataframe\">\n",
       "  <thead>\n",
       "    <tr style=\"text-align: right;\">\n",
       "      <th></th>\n",
       "      <th>Department</th>\n",
       "      <th>Attrition</th>\n",
       "      <th>DistanceFromHome</th>\n",
       "    </tr>\n",
       "  </thead>\n",
       "  <tbody>\n",
       "    <tr>\n",
       "      <th>0</th>\n",
       "      <td>Human Resources</td>\n",
       "      <td>No</td>\n",
       "      <td>51</td>\n",
       "    </tr>\n",
       "    <tr>\n",
       "      <th>1</th>\n",
       "      <td>Human Resources</td>\n",
       "      <td>Yes</td>\n",
       "      <td>12</td>\n",
       "    </tr>\n",
       "    <tr>\n",
       "      <th>2</th>\n",
       "      <td>Research &amp; Development</td>\n",
       "      <td>No</td>\n",
       "      <td>828</td>\n",
       "    </tr>\n",
       "    <tr>\n",
       "      <th>3</th>\n",
       "      <td>Research &amp; Development</td>\n",
       "      <td>Yes</td>\n",
       "      <td>133</td>\n",
       "    </tr>\n",
       "    <tr>\n",
       "      <th>4</th>\n",
       "      <td>Sales</td>\n",
       "      <td>No</td>\n",
       "      <td>354</td>\n",
       "    </tr>\n",
       "    <tr>\n",
       "      <th>5</th>\n",
       "      <td>Sales</td>\n",
       "      <td>Yes</td>\n",
       "      <td>92</td>\n",
       "    </tr>\n",
       "  </tbody>\n",
       "</table>\n",
       "</div>"
      ],
      "text/plain": [
       "               Department Attrition  DistanceFromHome\n",
       "0         Human Resources        No                51\n",
       "1         Human Resources       Yes                12\n",
       "2  Research & Development        No               828\n",
       "3  Research & Development       Yes               133\n",
       "4                   Sales        No               354\n",
       "5                   Sales       Yes                92"
      ]
     },
     "execution_count": 42,
     "metadata": {},
     "output_type": "execute_result"
    }
   ],
   "source": [
    "df[['Attrition','Department', 'DistanceFromHome']].groupby(['Department','Attrition']).count().reset_index()"
   ]
  },
  {
   "cell_type": "code",
   "execution_count": 41,
   "metadata": {},
   "outputs": [
    {
     "data": {
      "text/html": [
       "<div>\n",
       "<style scoped>\n",
       "    .dataframe tbody tr th:only-of-type {\n",
       "        vertical-align: middle;\n",
       "    }\n",
       "\n",
       "    .dataframe tbody tr th {\n",
       "        vertical-align: top;\n",
       "    }\n",
       "\n",
       "    .dataframe thead th {\n",
       "        text-align: right;\n",
       "    }\n",
       "</style>\n",
       "<table border=\"1\" class=\"dataframe\">\n",
       "  <thead>\n",
       "    <tr style=\"text-align: right;\">\n",
       "      <th></th>\n",
       "      <th>Department</th>\n",
       "      <th>Attrition</th>\n",
       "      <th>DistanceFromHome</th>\n",
       "    </tr>\n",
       "  </thead>\n",
       "  <tbody>\n",
       "    <tr>\n",
       "      <th>0</th>\n",
       "      <td>Human Resources</td>\n",
       "      <td>No</td>\n",
       "      <td>7.59</td>\n",
       "    </tr>\n",
       "    <tr>\n",
       "      <th>1</th>\n",
       "      <td>Human Resources</td>\n",
       "      <td>Yes</td>\n",
       "      <td>13.42</td>\n",
       "    </tr>\n",
       "    <tr>\n",
       "      <th>2</th>\n",
       "      <td>Research &amp; Development</td>\n",
       "      <td>No</td>\n",
       "      <td>8.96</td>\n",
       "    </tr>\n",
       "    <tr>\n",
       "      <th>3</th>\n",
       "      <td>Research &amp; Development</td>\n",
       "      <td>Yes</td>\n",
       "      <td>10.26</td>\n",
       "    </tr>\n",
       "    <tr>\n",
       "      <th>4</th>\n",
       "      <td>Sales</td>\n",
       "      <td>No</td>\n",
       "      <td>8.99</td>\n",
       "    </tr>\n",
       "    <tr>\n",
       "      <th>5</th>\n",
       "      <td>Sales</td>\n",
       "      <td>Yes</td>\n",
       "      <td>10.80</td>\n",
       "    </tr>\n",
       "  </tbody>\n",
       "</table>\n",
       "</div>"
      ],
      "text/plain": [
       "               Department Attrition  DistanceFromHome\n",
       "0         Human Resources        No              7.59\n",
       "1         Human Resources       Yes             13.42\n",
       "2  Research & Development        No              8.96\n",
       "3  Research & Development       Yes             10.26\n",
       "4                   Sales        No              8.99\n",
       "5                   Sales       Yes             10.80"
      ]
     },
     "execution_count": 41,
     "metadata": {},
     "output_type": "execute_result"
    }
   ],
   "source": [
    "df[['Attrition','Department', 'DistanceFromHome']].groupby(['Department','Attrition']).mean().round(2).reset_index()"
   ]
  },
  {
   "cell_type": "code",
   "execution_count": null,
   "metadata": {},
   "outputs": [],
   "source": []
  },
  {
   "cell_type": "markdown",
   "metadata": {},
   "source": [
    "### What is the percentage of employees who live more than 5 miles from home and who have attrited from the Sales department?"
   ]
  },
  {
   "cell_type": "code",
   "execution_count": 77,
   "metadata": {},
   "outputs": [
    {
     "name": "stdout",
     "output_type": "stream",
     "text": [
      "\n",
      "\n",
      "\u001b[1m> Entering new AgentExecutor chain...\u001b[0m\n",
      "\u001b[32;1m\u001b[1;3mAction: sql_db_list_tables\n",
      "Action Input: \u001b[0m\n",
      "Observation: \u001b[38;5;200m\u001b[1;3mATTRITION_TABLE\u001b[0m\n",
      "Thought:\u001b[32;1m\u001b[1;3mI should look at the schema of the ATTRITION_TABLE to see what columns I can query.\n",
      "Action: sql_db_schema\n",
      "Action Input: ATTRITION_TABLE\u001b[0m\n",
      "Observation: \u001b[33;1m\u001b[1;3m\n",
      "CREATE TABLE `ATTRITION_TABLE` (\n",
      "\t`Age` INT64, \n",
      "\t`Attrition` BOOL, \n",
      "\t`Department` STRING, \n",
      "\t`DistanceFromHome` INT64, \n",
      "\t`Education` INT64, \n",
      "\t`EducationField` STRING, \n",
      "\t`EnvironmentSatisfaction` INT64, \n",
      "\t`JobSatisfaction` INT64, \n",
      "\t`MaritalStatus` STRING, \n",
      "\t`MonthlyIncome` INT64, \n",
      "\t`NumCompaniesWorked` INT64, \n",
      "\t`WorkLifeBalance` INT64, \n",
      "\t`YearsAtCompany` INT64\n",
      ")\n",
      "\n",
      "/*\n",
      "3 rows from ATTRITION_TABLE table:\n",
      "Age\tAttrition\tDepartment\tDistanceFromHome\tEducation\tEducationField\tEnvironmentSatisfaction\tJobSatisfaction\tMaritalStatus\tMonthlyIncome\tNumCompaniesWorked\tWorkLifeBalance\tYearsAtCompany\n",
      "19\tTrue\tSales\t21\t3\tOther\t4\t2\tSingle\t2121\t1\t4\t1\n",
      "21\tTrue\tResearch & Development\t18\t1\tOther\t4\t4\tSingle\t2693\t1\t2\t1\n",
      "22\tFalse\tResearch & Development\t26\t2\tOther\t2\t3\tMarried\t2814\t1\t2\t4\n",
      "*/\u001b[0m\n",
      "Thought:\u001b[32;1m\u001b[1;3mI should write a query to answer the question.\n",
      "Action: sql_db_query\n",
      "Action Input: SELECT COUNT(*) / (SELECT COUNT(*) FROM ATTRITION_TABLE WHERE Department = 'Sales') AS Percentage FROM ATTRITION_TABLE WHERE Department = 'Sales' AND DistanceFromHome > 5\u001b[0m\n",
      "Observation: \u001b[36;1m\u001b[1;3m[(0.5762331838565022,)]\u001b[0m\n",
      "Thought:\u001b[32;1m\u001b[1;3mI now know the final answer\n",
      "Final Answer: 0.5762331838565022\u001b[0m\n",
      "\n",
      "\u001b[1m> Finished chain.\u001b[0m\n"
     ]
    },
    {
     "data": {
      "text/plain": [
       "'0.5762331838565022'"
      ]
     },
     "execution_count": 77,
     "metadata": {},
     "output_type": "execute_result"
    }
   ],
   "source": [
    "agent_executor.run(\"What is the percentage of employees who live more than 5 miles from home and who have attrited from the Sales department?\")"
   ]
  },
  {
   "cell_type": "code",
   "execution_count": 65,
   "metadata": {},
   "outputs": [
    {
     "data": {
      "text/plain": [
       "0.5762331838565022"
      ]
     },
     "execution_count": 65,
     "metadata": {},
     "output_type": "execute_result"
    }
   ],
   "source": [
    "df[(df['Department']=='Sales')&(df['DistanceFromHome']>5)]['DistanceFromHome'].value_counts().sum() / \\\n",
    "df[(df['Department']=='Sales')]['DistanceFromHome'].value_counts().sum()"
   ]
  },
  {
   "cell_type": "code",
   "execution_count": 63,
   "metadata": {},
   "outputs": [
    {
     "data": {
      "text/plain": [
       "Attrition\n",
       "No     199\n",
       "Yes     58\n",
       "Name: count, dtype: int64"
      ]
     },
     "execution_count": 63,
     "metadata": {},
     "output_type": "execute_result"
    }
   ],
   "source": [
    "df[(df['Department']=='Sales')&(df['DistanceFromHome'] > 5)]['Attrition'].value_counts()"
   ]
  },
  {
   "cell_type": "code",
   "execution_count": 58,
   "metadata": {},
   "outputs": [
    {
     "data": {
      "text/plain": [
       "0.6304347826086957"
      ]
     },
     "execution_count": 58,
     "metadata": {},
     "output_type": "execute_result"
    }
   ],
   "source": [
    "\n",
    "df[(df['Department']=='Sales')&(df['Attrition']=='Yes')&(df['DistanceFromHome']>5)]['DistanceFromHome'].value_counts().sum() / \\\n",
    "df[(df['Department']=='Sales')&(df['Attrition']=='Yes')]['DistanceFromHome'].value_counts().sum()"
   ]
  },
  {
   "cell_type": "markdown",
   "metadata": {},
   "source": [
    "### What department has the most Attrition?"
   ]
  },
  {
   "cell_type": "code",
   "execution_count": 72,
   "metadata": {},
   "outputs": [
    {
     "name": "stdout",
     "output_type": "stream",
     "text": [
      "\n",
      "\n",
      "\u001b[1m> Entering new AgentExecutor chain...\u001b[0m\n"
     ]
    },
    {
     "name": "stderr",
     "output_type": "stream",
     "text": [
      "Retrying langchain.llms.vertexai.completion_with_retry.<locals>._completion_with_retry in 4.0 seconds as it raised ResourceExhausted: 429 Quota exceeded for aiplatform.googleapis.com/online_prediction_requests_per_base_model with base model: text-bison. Please submit a quota increase request. https://cloud.google.com/vertex-ai/docs/quotas..\n"
     ]
    },
    {
     "name": "stdout",
     "output_type": "stream",
     "text": [
      "\u001b[32;1m\u001b[1;3mAction: sql_db_list_tables\n",
      "Action Input: \u001b[0m\n",
      "Observation: \u001b[38;5;200m\u001b[1;3mATTRITION_TABLE\u001b[0m\n",
      "Thought:"
     ]
    },
    {
     "name": "stderr",
     "output_type": "stream",
     "text": [
      "Retrying langchain.llms.vertexai.completion_with_retry.<locals>._completion_with_retry in 4.0 seconds as it raised ResourceExhausted: 429 Quota exceeded for aiplatform.googleapis.com/online_prediction_requests_per_base_model with base model: text-bison. Please submit a quota increase request. https://cloud.google.com/vertex-ai/docs/quotas..\n"
     ]
    },
    {
     "name": "stdout",
     "output_type": "stream",
     "text": [
      "\u001b[32;1m\u001b[1;3mI should query the schema of the ATTRITION_TABLE table to see what columns I can use in my query.\n",
      "Action: sql_db_schema\n",
      "Action Input: ATTRITION_TABLE\u001b[0m"
     ]
    },
    {
     "name": "stderr",
     "output_type": "stream",
     "text": [
      "/Users/sam/opt/anaconda3/envs/table_qa_env/lib/python3.11/site-packages/google/cloud/bigquery/client.py:570: UserWarning: Cannot create BigQuery Storage client, the dependency google-cloud-bigquery-storage is not installed.\n",
      "  warnings.warn(\n",
      "Retrying langchain.llms.vertexai.completion_with_retry.<locals>._completion_with_retry in 4.0 seconds as it raised ResourceExhausted: 429 Quota exceeded for aiplatform.googleapis.com/online_prediction_requests_per_base_model with base model: text-bison. Please submit a quota increase request. https://cloud.google.com/vertex-ai/docs/quotas..\n"
     ]
    },
    {
     "name": "stdout",
     "output_type": "stream",
     "text": [
      "\n",
      "Observation: \u001b[33;1m\u001b[1;3m\n",
      "CREATE TABLE `ATTRITION_TABLE` (\n",
      "\t`Age` INT64, \n",
      "\t`Attrition` BOOL, \n",
      "\t`Department` STRING, \n",
      "\t`DistanceFromHome` INT64, \n",
      "\t`Education` INT64, \n",
      "\t`EducationField` STRING, \n",
      "\t`EnvironmentSatisfaction` INT64, \n",
      "\t`JobSatisfaction` INT64, \n",
      "\t`MaritalStatus` STRING, \n",
      "\t`MonthlyIncome` INT64, \n",
      "\t`NumCompaniesWorked` INT64, \n",
      "\t`WorkLifeBalance` INT64, \n",
      "\t`YearsAtCompany` INT64\n",
      ")\n",
      "\n",
      "/*\n",
      "3 rows from ATTRITION_TABLE table:\n",
      "Age\tAttrition\tDepartment\tDistanceFromHome\tEducation\tEducationField\tEnvironmentSatisfaction\tJobSatisfaction\tMaritalStatus\tMonthlyIncome\tNumCompaniesWorked\tWorkLifeBalance\tYearsAtCompany\n",
      "19\tTrue\tSales\t21\t3\tOther\t4\t2\tSingle\t2121\t1\t4\t1\n",
      "21\tTrue\tResearch & Development\t18\t1\tOther\t4\t4\tSingle\t2693\t1\t2\t1\n",
      "22\tFalse\tResearch & Development\t26\t2\tOther\t2\t3\tMarried\t2814\t1\t2\t4\n",
      "*/\u001b[0m\n",
      "Thought:"
     ]
    },
    {
     "name": "stderr",
     "output_type": "stream",
     "text": [
      "Retrying langchain.llms.vertexai.completion_with_retry.<locals>._completion_with_retry in 4.0 seconds as it raised ResourceExhausted: 429 Quota exceeded for aiplatform.googleapis.com/online_prediction_requests_per_base_model with base model: text-bison. Please submit a quota increase request. https://cloud.google.com/vertex-ai/docs/quotas..\n",
      "Retrying langchain.llms.vertexai.completion_with_retry.<locals>._completion_with_retry in 4.0 seconds as it raised ResourceExhausted: 429 Quota exceeded for aiplatform.googleapis.com/online_prediction_requests_per_base_model with base model: text-bison. Please submit a quota increase request. https://cloud.google.com/vertex-ai/docs/quotas..\n"
     ]
    },
    {
     "name": "stdout",
     "output_type": "stream",
     "text": [
      "\u001b[32;1m\u001b[1;3mI should write a query to get the department with the most Attrition.\n",
      "Action: sql_db_query\n",
      "Action Input: SELECT Department, count(*) as AttritionCount FROM ATTRITION_TABLE GROUP BY Department ORDER BY AttritionCount DESC LIMIT 1\u001b[0m\n",
      "Observation: \u001b[36;1m\u001b[1;3m[('Research & Development', 961)]\u001b[0m\n",
      "Thought:\u001b[32;1m\u001b[1;3mI now know the final answer\n",
      "Final Answer: Research & Development has the most Attrition.\u001b[0m\n",
      "\n",
      "\u001b[1m> Finished chain.\u001b[0m\n"
     ]
    },
    {
     "data": {
      "text/plain": [
       "'Research & Development has the most Attrition.'"
      ]
     },
     "execution_count": 72,
     "metadata": {},
     "output_type": "execute_result"
    }
   ],
   "source": [
    "agent_executor.run(\"What department has the most Attrition?\")"
   ]
  },
  {
   "cell_type": "code",
   "execution_count": 82,
   "metadata": {},
   "outputs": [
    {
     "data": {
      "text/html": [
       "<div>\n",
       "<style scoped>\n",
       "    .dataframe tbody tr th:only-of-type {\n",
       "        vertical-align: middle;\n",
       "    }\n",
       "\n",
       "    .dataframe tbody tr th {\n",
       "        vertical-align: top;\n",
       "    }\n",
       "\n",
       "    .dataframe thead th {\n",
       "        text-align: right;\n",
       "    }\n",
       "</style>\n",
       "<table border=\"1\" class=\"dataframe\">\n",
       "  <thead>\n",
       "    <tr style=\"text-align: right;\">\n",
       "      <th></th>\n",
       "      <th>Department</th>\n",
       "      <th>Attrition</th>\n",
       "      <th>Count</th>\n",
       "    </tr>\n",
       "  </thead>\n",
       "  <tbody>\n",
       "    <tr>\n",
       "      <th>0</th>\n",
       "      <td>Human Resources</td>\n",
       "      <td>No</td>\n",
       "      <td>51</td>\n",
       "    </tr>\n",
       "    <tr>\n",
       "      <th>1</th>\n",
       "      <td>Human Resources</td>\n",
       "      <td>Yes</td>\n",
       "      <td>12</td>\n",
       "    </tr>\n",
       "    <tr>\n",
       "      <th>2</th>\n",
       "      <td>Research &amp; Development</td>\n",
       "      <td>No</td>\n",
       "      <td>828</td>\n",
       "    </tr>\n",
       "    <tr>\n",
       "      <th>3</th>\n",
       "      <td>Research &amp; Development</td>\n",
       "      <td>Yes</td>\n",
       "      <td>133</td>\n",
       "    </tr>\n",
       "    <tr>\n",
       "      <th>4</th>\n",
       "      <td>Sales</td>\n",
       "      <td>No</td>\n",
       "      <td>354</td>\n",
       "    </tr>\n",
       "    <tr>\n",
       "      <th>5</th>\n",
       "      <td>Sales</td>\n",
       "      <td>Yes</td>\n",
       "      <td>92</td>\n",
       "    </tr>\n",
       "  </tbody>\n",
       "</table>\n",
       "</div>"
      ],
      "text/plain": [
       "               Department Attrition  Count\n",
       "0         Human Resources        No     51\n",
       "1         Human Resources       Yes     12\n",
       "2  Research & Development        No    828\n",
       "3  Research & Development       Yes    133\n",
       "4                   Sales        No    354\n",
       "5                   Sales       Yes     92"
      ]
     },
     "execution_count": 82,
     "metadata": {},
     "output_type": "execute_result"
    }
   ],
   "source": [
    "df.groupby(['Department', 'Attrition']).count().reset_index().rename(columns = {'Age':'Count'})[['Department', 'Attrition', 'Count']]"
   ]
  },
  {
   "cell_type": "code",
   "execution_count": null,
   "metadata": {},
   "outputs": [],
   "source": []
  }
 ],
 "metadata": {
  "kernelspec": {
   "display_name": "table_qa_env",
   "language": "python",
   "name": "python3"
  },
  "language_info": {
   "codemirror_mode": {
    "name": "ipython",
    "version": 3
   },
   "file_extension": ".py",
   "mimetype": "text/x-python",
   "name": "python",
   "nbconvert_exporter": "python",
   "pygments_lexer": "ipython3",
   "version": "3.11.5"
  },
  "orig_nbformat": 4
 },
 "nbformat": 4,
 "nbformat_minor": 2
}
