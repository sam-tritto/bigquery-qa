{
 "cells": [
  {
   "cell_type": "markdown",
   "metadata": {},
   "source": [
    "# BigQuery QA"
   ]
  },
  {
   "cell_type": "code",
   "execution_count": null,
   "metadata": {},
   "outputs": [],
   "source": [
    "! pip install langchain chromadb sqlalchemy sqlalchemy-bigquery google-cloud-bigquery"
   ]
  },
  {
   "cell_type": "code",
   "execution_count": null,
   "metadata": {},
   "outputs": [],
   "source": [
    "import pandas as pd\n",
    "\n",
    "from sqlalchemy import *\n",
    "from sqlalchemy.engine import create_engine\n",
    "from sqlalchemy.schema import *\n",
    "\n",
    "from langchain.agents import create_sql_agent\n",
    "from langchain.agents.agent_toolkits import SQLDatabaseToolkit\n",
    "from langchain.sql_database import SQLDatabase\n",
    "from langchain.agents import AgentExecutor\n",
    "from langchain.llms import VertexAI\n",
    "\n",
    "from google.cloud import bigquery\n",
    "from google.cloud import aiplatform"
   ]
  },
  {
   "cell_type": "markdown",
   "metadata": {},
   "source": [
    "### Set Variables"
   ]
  },
  {
   "cell_type": "code",
   "execution_count": null,
   "metadata": {},
   "outputs": [],
   "source": [
    "PROJECT_ID = \"your-project-id\"\n",
    "DATASET = \"IBM_ATTRITION\"\n",
    "TABLE = \"ATTRITION_TABLE\"\n",
    "\n",
    "service_account_secret_key = \"/path/to/your/secret/key.json\" \n",
    "\n",
    "sqlalchemy_url = f'bigquery://{PROJECT_ID}/{DATASET}?credentials_path={service_account_secret_key}'"
   ]
  },
  {
   "cell_type": "markdown",
   "metadata": {},
   "source": [
    "### Load Data"
   ]
  },
  {
   "cell_type": "code",
   "execution_count": null,
   "metadata": {},
   "outputs": [],
   "source": [
    "df = pd.read_csv(\"IBM.csv\")\n",
    "df"
   ]
  },
  {
   "cell_type": "markdown",
   "metadata": {},
   "source": [
    "### LLM: Google PaLm & VertexAI"
   ]
  },
  {
   "cell_type": "code",
   "execution_count": null,
   "metadata": {},
   "outputs": [],
   "source": [
    "# initialize LLM\n",
    "\n",
    "aiplatform.init(project=PROJECT_ID)\n",
    "\n",
    "llm = VertexAI(model_name='text-bison@001')"
   ]
  },
  {
   "cell_type": "code",
   "execution_count": null,
   "metadata": {},
   "outputs": [],
   "source": [
    "# test LLM\n",
    "\n",
    "question = \"What day comes after Friday?\"\n",
    "\n",
    "llm(question)"
   ]
  },
  {
   "cell_type": "code",
   "execution_count": null,
   "metadata": {},
   "outputs": [],
   "source": [
    "# Connect Sqlalchemy, LangChain, and VertexAI\n",
    "\n",
    "db = SQLDatabase.from_uri(sqlalchemy_url)\n",
    "\n",
    "llm = VertexAI(model_name='text-bison@001')\n",
    "\n",
    "toolkit = SQLDatabaseToolkit(db=db, llm=llm)\n",
    "\n",
    "agent_executor = create_sql_agent(llm=llm,\n",
    "                                    toolkit=toolkit,\n",
    "                                    verbose=True,                                    \n",
    "                                    top_k=1000, \n",
    "                                    temperature=0.0,\n",
    "                                    )"
   ]
  },
  {
   "cell_type": "code",
   "execution_count": null,
   "metadata": {},
   "outputs": [],
   "source": [
    "# the prefix parameter\n",
    "\n",
    "print('You are an agent designed to interact with a SQL database.\\nGiven an input question, create a syntactically correct {dialect} query to run, then look at the results of the query and return the answer.\\nUnless the user specifies a specific number of examples they wish to obtain, always limit your query to at most {top_k} results.\\nYou can order the results by a relevant column to return the most interesting examples in the database.\\nNever query for all the columns from a specific table, only ask for the relevant columns given the question.\\nYou have access to tools for interacting with the database.\\nOnly use the below tools. Only use the information returned by the below tools to construct your final answer.\\nYou MUST double check your query before executing it. If you get an error while executing a query, rewrite the query and try again.\\n\\nDO NOT make any DML statements (INSERT, UPDATE, DELETE, DROP etc.) to the database.\\n\\nIf the question does not seem related to the database, just return \"I don\\'t know\" as the answer.\\n',)"
   ]
  },
  {
   "cell_type": "code",
   "execution_count": null,
   "metadata": {},
   "outputs": [],
   "source": [
    "# the format parameter\n",
    "\n",
    "print('Use the following format:\\n\\nQuestion: the input question you must answer\\nThought: you should always think about what to do\\nAction: the action to take, should be one of [{tool_names}]\\nAction Input: the input to the action\\nObservation: the result of the action\\n... (this Thought/Action/Action Input/Observation can repeat N times)\\nThought: I now know the final answer\\nFinal Answer: the final answer to the original input question',)"
   ]
  },
  {
   "cell_type": "markdown",
   "metadata": {},
   "source": [
    "### How many different Departments are there?"
   ]
  },
  {
   "cell_type": "code",
   "execution_count": null,
   "metadata": {},
   "outputs": [],
   "source": [
    "agent_executor.run(\"How many different Departments are there?\")"
   ]
  },
  {
   "cell_type": "code",
   "execution_count": null,
   "metadata": {},
   "outputs": [],
   "source": [
    "df['Department'].nunique()"
   ]
  },
  {
   "cell_type": "markdown",
   "metadata": {},
   "source": [
    "### What's the average monthly income for the Sales department?"
   ]
  },
  {
   "cell_type": "code",
   "execution_count": null,
   "metadata": {},
   "outputs": [],
   "source": [
    "agent_executor.run(\"What's the average monthly income for the Sales department?\")"
   ]
  },
  {
   "cell_type": "code",
   "execution_count": null,
   "metadata": {},
   "outputs": [],
   "source": [
    "df[['Department', 'MonthlyIncome']].groupby('Department').mean().round(2).reset_index()"
   ]
  },
  {
   "cell_type": "markdown",
   "metadata": {},
   "source": [
    "### Which department has the highest number of attrition and how far on average is the distance from home for those who attited from this department?"
   ]
  },
  {
   "cell_type": "code",
   "execution_count": null,
   "metadata": {},
   "outputs": [],
   "source": [
    "agent_executor.run(\"Which department has the highest number of attrition and how far on average is the distance from home for those who attited from this department?\")"
   ]
  },
  {
   "cell_type": "code",
   "execution_count": null,
   "metadata": {},
   "outputs": [],
   "source": [
    "df[['Attrition','Department', 'DistanceFromHome']].groupby(['Department','Attrition']).count().reset_index()"
   ]
  },
  {
   "cell_type": "code",
   "execution_count": null,
   "metadata": {},
   "outputs": [],
   "source": [
    "df[['Attrition','Department', 'DistanceFromHome']].groupby(['Department','Attrition']).mean().round(2).reset_index()"
   ]
  },
  {
   "cell_type": "code",
   "execution_count": null,
   "metadata": {},
   "outputs": [],
   "source": []
  },
  {
   "cell_type": "markdown",
   "metadata": {},
   "source": [
    "### What is the percentage of employees who live more than 5 miles from home and who have attrited from the Sales department?"
   ]
  },
  {
   "cell_type": "code",
   "execution_count": null,
   "metadata": {},
   "outputs": [],
   "source": [
    "agent_executor.run(\"What is the percentage of employees who live more than 5 miles from home and who have attrited from the Sales department?\")"
   ]
  },
  {
   "cell_type": "code",
   "execution_count": null,
   "metadata": {},
   "outputs": [],
   "source": [
    "df[(df['Department']=='Sales')&(df['DistanceFromHome']>5)]['DistanceFromHome'].value_counts().sum() / \\\n",
    "df[(df['Department']=='Sales')]['DistanceFromHome'].value_counts().sum()"
   ]
  },
  {
   "cell_type": "code",
   "execution_count": null,
   "metadata": {},
   "outputs": [],
   "source": [
    "df[(df['Department']=='Sales')&(df['DistanceFromHome'] > 5)]['Attrition'].value_counts()"
   ]
  },
  {
   "cell_type": "code",
   "execution_count": null,
   "metadata": {},
   "outputs": [],
   "source": [
    "\n",
    "df[(df['Department']=='Sales')&(df['Attrition']=='Yes')&(df['DistanceFromHome']>5)]['DistanceFromHome'].value_counts().sum() / \\\n",
    "df[(df['Department']=='Sales')&(df['Attrition']=='Yes')]['DistanceFromHome'].value_counts().sum()"
   ]
  },
  {
   "cell_type": "markdown",
   "metadata": {},
   "source": [
    "### What department has the most Attrition?"
   ]
  },
  {
   "cell_type": "code",
   "execution_count": null,
   "metadata": {},
   "outputs": [],
   "source": [
    "agent_executor.run(\"What department has the most Attrition?\")"
   ]
  },
  {
   "cell_type": "code",
   "execution_count": null,
   "metadata": {},
   "outputs": [],
   "source": [
    "df.groupby(['Department', 'Attrition']).count().reset_index().rename(columns = {'Age':'Count'})[['Department', 'Attrition', 'Count']]"
   ]
  },
  {
   "cell_type": "code",
   "execution_count": null,
   "metadata": {},
   "outputs": [],
   "source": []
  },
  {
   "cell_type": "markdown",
   "metadata": {},
   "source": [
    "### Prompt Engineering"
   ]
  },
  {
   "cell_type": "code",
   "execution_count": null,
   "metadata": {},
   "outputs": [],
   "source": [
    "data_dictionary = '''\\n\n",
    "\\nAge = The age of each employee in years\n",
    "\\nAttrition = Did the employee quit the company? (A booloean datatype of Yes or No)\n",
    "\\nDepartment = The department the employee most recently works in\n",
    "\\nDistanceFromHome = The distance from home the employee must travel to their work station in miles\n",
    "\\nEducation = The maximum education level attained by the employee (1=High School, 2=Some College, 3=Bachelors Degree, 4=Masters Degree, 5=Doctorate Degree)\n",
    "\\nEducationField = The field of study the employee completed their degree in\n",
    "\\nEnvironmentSatisfaction = How satisfied the employee is with their environment (1=very bad, 2=bad, 3=neutral, 4=good, 5=very good)\n",
    "\\nJobSatisfaction = How satisfied the employee is with their job (1=very bad, 2=bad, 3=neutral, 4=good, 5=very good)\n",
    "\\nMaritalStatus = If the employee is married or single\n",
    "\\nMonthlyIncome = The net monthly income of the employee in US dollars\n",
    "\\nNumCompaniesWorked = The number of compaies the employee has worked at previously\n",
    "\\nWorkLifeBalance = How the employee rates their own work life balance (1=very bad, 2=bad, 3=neutral, 4=good, 5=very good)\n",
    "\\nYearsAtCompany = How many years the employee has been employed at this company\n",
    "'''"
   ]
  },
  {
   "cell_type": "code",
   "execution_count": null,
   "metadata": {},
   "outputs": [],
   "source": [
    "data_description = '''\\n\n",
    "\\nThis is a table of employee characteristics. \n",
    "\\nEach row is a unique employee who is either currently employed or who was previously employed. \n",
    "\\nThe Attrition column describes if the employee has attrited (Yes) or is still employed (No).  \n",
    "\\nPlease use units in the final answer if applicable.\n",
    "\\nSince the Attrition column is boolean datatype, before trying to aggregate it you'll need to convert it to an integer Int64 datatype.\n",
    "'''"
   ]
  },
  {
   "cell_type": "code",
   "execution_count": null,
   "metadata": {},
   "outputs": [],
   "source": [
    "prefix = 'You are an agent designed to interact with a SQL database.\\nGiven an input question, create a syntactically correct {dialect} query to run, then look at the results of the query and return the answer.\\nUnless the user specifies a specific number of examples they wish to obtain, always limit your query to at most {top_k} results.\\nYou can order the results by a relevant column to return the most interesting examples in the database.\\nNever query for all the columns from a specific table, only ask for the relevant columns given the question.\\nYou have access to tools for interacting with the database.\\nOnly use the below tools. Only use the information returned by the below tools to construct your final answer.\\nYou MUST double check your query before executing it. If you get an error while executing a query, rewrite the query and try again.\\n\\nDO NOT make any DML statements (INSERT, UPDATE, DELETE, DROP etc.) to the database.\\n\\nIf the question does not seem related to the database, just return \"I don\\'t know\" as the answer.\\n'\n",
    "\n",
    "prefix = prefix + f'\\n\\nHere is the data dictionary for this table {data_dictionary}'\n",
    "\n",
    "prefix = prefix + f'\\n\\nAnd here is a description of the table {data_description}'"
   ]
  },
  {
   "cell_type": "code",
   "execution_count": null,
   "metadata": {},
   "outputs": [],
   "source": [
    "# Adding a prefix\n",
    "\n",
    "agent_executor = create_sql_agent(llm=llm,\n",
    "                                    toolkit=toolkit,\n",
    "                                    verbose=True,                                    \n",
    "                                    top_k=1000, \n",
    "                                    temperature=0.5,\n",
    "                                    prefix = prefix\n",
    "                                    )"
   ]
  },
  {
   "cell_type": "code",
   "execution_count": null,
   "metadata": {},
   "outputs": [],
   "source": [
    "agent_executor.run(\"What level of education has the highest attrition?\")"
   ]
  },
  {
   "cell_type": "code",
   "execution_count": null,
   "metadata": {},
   "outputs": [],
   "source": []
  },
  {
   "cell_type": "code",
   "execution_count": null,
   "metadata": {},
   "outputs": [],
   "source": []
  },
  {
   "cell_type": "code",
   "execution_count": null,
   "metadata": {},
   "outputs": [],
   "source": []
  }
 ],
 "metadata": {
  "kernelspec": {
   "display_name": "table_qa_env",
   "language": "python",
   "name": "python3"
  },
  "language_info": {
   "codemirror_mode": {
    "name": "ipython",
    "version": 3
   },
   "file_extension": ".py",
   "mimetype": "text/x-python",
   "name": "python",
   "nbconvert_exporter": "python",
   "pygments_lexer": "ipython3",
   "version": "3.11.5"
  },
  "orig_nbformat": 4
 },
 "nbformat": 4,
 "nbformat_minor": 2
}
